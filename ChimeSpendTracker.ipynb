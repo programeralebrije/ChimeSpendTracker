{
  "nbformat": 4,
  "nbformat_minor": 0,
  "metadata": {
    "colab": {
      "provenance": [],
      "mount_file_id": "1ugvjhX-8ABGnf3nLfEwkPxelm1sIkDon",
      "authorship_tag": "ABX9TyNB3nWJoEsqrmZEBmoplAvy",
      "include_colab_link": true
    },
    "kernelspec": {
      "name": "python3",
      "display_name": "Python 3"
    },
    "language_info": {
      "name": "python"
    }
  },
  "cells": [
    {
      "cell_type": "markdown",
      "metadata": {
        "id": "view-in-github",
        "colab_type": "text"
      },
      "source": [
        "<a href=\"https://colab.research.google.com/github/programeralebrije/ChimeSpendTracker/blob/main/ChimeSpendTracker.ipynb\" target=\"_parent\"><img src=\"https://colab.research.google.com/assets/colab-badge.svg\" alt=\"Open In Colab\"/></a>"
      ]
    },
    {
      "cell_type": "code",
      "execution_count": 10,
      "metadata": {
        "id": "518InYJetDSy"
      },
      "outputs": [],
      "source": [
        "# importing necessary libraries\n",
        "import pandas as pd\n",
        "import numpy as np\n",
        "import matplotlib.pyplot as plt\n",
        "import seaborn as sns\n",
        "import scipy.stats as stats\n",
        "import statsmodels.stats.proportion as proportions\n"
      ]
    },
    {
      "cell_type": "markdown",
      "source": [
        "#Acquisition\n",
        "\n",
        "Chime wants to know if the spend tracker feature has an impact on how much people spend and how many bank accounts they have. They have two hypotheses:\n",
        "\n",
        "Hypothesis 1: The average monthly spend for Segment B is higher than Segment A.\n",
        "Hypothesis 2: Members in Segment B are also more likely to have additional bank accounts on top of Chime.\n",
        "To test these hypotheses, Chime will use a chi-square test. This statistical test will compare the average monthly expenditures between Segment A and Segment B, and it will also look at the relationship between the segments and the groups (test and control) to see if there is a significant difference in spending habits.\n",
        "\n",
        "If the chi-square test is statistically significant, it will mean that there is a real difference in spending habits between Segment A and Segment B. This could be because of the spend tracker feature, or it could be due to other factors.\n",
        "\n",
        "Chime will also look at the cost incurred to convert one member of the population in the control and test groups. They want to see if there is a significant difference between the number of members using the spend tracker and those not using it.\n",
        "\n",
        "The results of these analyses will help Chime decide whether or not to launch the spend tracker feature.\n",
        "\n"
      ],
      "metadata": {
        "id": "RDnrHV5G6wsZ"
      }
    },
    {
      "cell_type": "code",
      "source": [
        "# Read the Excel file and import the specific column and row into a DataFrame\n",
        "df = pd.read_excel('/content/drive/MyDrive/SpendTraker/Spend Tracker Assignment1/Spend_Tracker_Assignment_Data.xlsx', sheet_name='Spend Tracker Data', usecols='B:G', skiprows=range(1, 29), header=1)"
      ],
      "metadata": {
        "id": "6iLJfUVA0rZw"
      },
      "execution_count": 7,
      "outputs": []
    },
    {
      "cell_type": "code",
      "source": [
        "# Load the acquisition data into a Pandas DataFrame\n",
        "data = {\n",
        "    'Group': ['Control', 'Test'],\n",
        "    'Population': [20014153, 20214295],\n",
        "    'Conversions': [19815, 23007],\n",
        "    'Segment_A_Conversions': [9906, 10504],\n",
        "    'Segment_B_Conversions': [9909, 12503]\n",
        "}\n",
        "\n",
        "df_acquisition = pd.DataFrame(data)\n",
        "df_acquisition"
      ],
      "metadata": {
        "colab": {
          "base_uri": "https://localhost:8080/",
          "height": 182
        },
        "id": "CxZwIs_K0mK7",
        "outputId": "35a56bf2-96ca-411b-bffc-deb492bfd75d"
      },
      "execution_count": 8,
      "outputs": [
        {
          "output_type": "execute_result",
          "data": {
            "text/plain": [
              "     Group  Population  Conversions  Segment_A_Conversions  \\\n",
              "0  Control    20014153        19815                   9906   \n",
              "1     Test    20214295        23007                  10504   \n",
              "\n",
              "   Segment_B_Conversions  \n",
              "0                   9909  \n",
              "1                  12503  "
            ],
            "text/html": [
              "\n",
              "\n",
              "  <div id=\"df-f2d7e0f1-1277-48ce-98cc-69439591b1d8\">\n",
              "    <div class=\"colab-df-container\">\n",
              "      <div>\n",
              "<style scoped>\n",
              "    .dataframe tbody tr th:only-of-type {\n",
              "        vertical-align: middle;\n",
              "    }\n",
              "\n",
              "    .dataframe tbody tr th {\n",
              "        vertical-align: top;\n",
              "    }\n",
              "\n",
              "    .dataframe thead th {\n",
              "        text-align: right;\n",
              "    }\n",
              "</style>\n",
              "<table border=\"1\" class=\"dataframe\">\n",
              "  <thead>\n",
              "    <tr style=\"text-align: right;\">\n",
              "      <th></th>\n",
              "      <th>Group</th>\n",
              "      <th>Population</th>\n",
              "      <th>Conversions</th>\n",
              "      <th>Segment_A_Conversions</th>\n",
              "      <th>Segment_B_Conversions</th>\n",
              "    </tr>\n",
              "  </thead>\n",
              "  <tbody>\n",
              "    <tr>\n",
              "      <th>0</th>\n",
              "      <td>Control</td>\n",
              "      <td>20014153</td>\n",
              "      <td>19815</td>\n",
              "      <td>9906</td>\n",
              "      <td>9909</td>\n",
              "    </tr>\n",
              "    <tr>\n",
              "      <th>1</th>\n",
              "      <td>Test</td>\n",
              "      <td>20214295</td>\n",
              "      <td>23007</td>\n",
              "      <td>10504</td>\n",
              "      <td>12503</td>\n",
              "    </tr>\n",
              "  </tbody>\n",
              "</table>\n",
              "</div>\n",
              "      <button class=\"colab-df-convert\" onclick=\"convertToInteractive('df-f2d7e0f1-1277-48ce-98cc-69439591b1d8')\"\n",
              "              title=\"Convert this dataframe to an interactive table.\"\n",
              "              style=\"display:none;\">\n",
              "\n",
              "  <svg xmlns=\"http://www.w3.org/2000/svg\" height=\"24px\"viewBox=\"0 0 24 24\"\n",
              "       width=\"24px\">\n",
              "    <path d=\"M0 0h24v24H0V0z\" fill=\"none\"/>\n",
              "    <path d=\"M18.56 5.44l.94 2.06.94-2.06 2.06-.94-2.06-.94-.94-2.06-.94 2.06-2.06.94zm-11 1L8.5 8.5l.94-2.06 2.06-.94-2.06-.94L8.5 2.5l-.94 2.06-2.06.94zm10 10l.94 2.06.94-2.06 2.06-.94-2.06-.94-.94-2.06-.94 2.06-2.06.94z\"/><path d=\"M17.41 7.96l-1.37-1.37c-.4-.4-.92-.59-1.43-.59-.52 0-1.04.2-1.43.59L10.3 9.45l-7.72 7.72c-.78.78-.78 2.05 0 2.83L4 21.41c.39.39.9.59 1.41.59.51 0 1.02-.2 1.41-.59l7.78-7.78 2.81-2.81c.8-.78.8-2.07 0-2.86zM5.41 20L4 18.59l7.72-7.72 1.47 1.35L5.41 20z\"/>\n",
              "  </svg>\n",
              "      </button>\n",
              "\n",
              "\n",
              "\n",
              "    <div id=\"df-95340edc-897a-4ffa-b250-7e2cf2d9fbc3\">\n",
              "      <button class=\"colab-df-quickchart\" onclick=\"quickchart('df-95340edc-897a-4ffa-b250-7e2cf2d9fbc3')\"\n",
              "              title=\"Suggest charts.\"\n",
              "              style=\"display:none;\">\n",
              "\n",
              "<svg xmlns=\"http://www.w3.org/2000/svg\" height=\"24px\"viewBox=\"0 0 24 24\"\n",
              "     width=\"24px\">\n",
              "    <g>\n",
              "        <path d=\"M19 3H5c-1.1 0-2 .9-2 2v14c0 1.1.9 2 2 2h14c1.1 0 2-.9 2-2V5c0-1.1-.9-2-2-2zM9 17H7v-7h2v7zm4 0h-2V7h2v10zm4 0h-2v-4h2v4z\"/>\n",
              "    </g>\n",
              "</svg>\n",
              "      </button>\n",
              "    </div>\n",
              "\n",
              "<style>\n",
              "  .colab-df-quickchart {\n",
              "    background-color: #E8F0FE;\n",
              "    border: none;\n",
              "    border-radius: 50%;\n",
              "    cursor: pointer;\n",
              "    display: none;\n",
              "    fill: #1967D2;\n",
              "    height: 32px;\n",
              "    padding: 0 0 0 0;\n",
              "    width: 32px;\n",
              "  }\n",
              "\n",
              "  .colab-df-quickchart:hover {\n",
              "    background-color: #E2EBFA;\n",
              "    box-shadow: 0px 1px 2px rgba(60, 64, 67, 0.3), 0px 1px 3px 1px rgba(60, 64, 67, 0.15);\n",
              "    fill: #174EA6;\n",
              "  }\n",
              "\n",
              "  [theme=dark] .colab-df-quickchart {\n",
              "    background-color: #3B4455;\n",
              "    fill: #D2E3FC;\n",
              "  }\n",
              "\n",
              "  [theme=dark] .colab-df-quickchart:hover {\n",
              "    background-color: #434B5C;\n",
              "    box-shadow: 0px 1px 3px 1px rgba(0, 0, 0, 0.15);\n",
              "    filter: drop-shadow(0px 1px 2px rgba(0, 0, 0, 0.3));\n",
              "    fill: #FFFFFF;\n",
              "  }\n",
              "</style>\n",
              "\n",
              "    <script>\n",
              "      async function quickchart(key) {\n",
              "        const containerElement = document.querySelector('#' + key);\n",
              "        const charts = await google.colab.kernel.invokeFunction(\n",
              "            'suggestCharts', [key], {});\n",
              "      }\n",
              "    </script>\n",
              "\n",
              "      <script>\n",
              "\n",
              "function displayQuickchartButton(domScope) {\n",
              "  let quickchartButtonEl =\n",
              "    domScope.querySelector('#df-95340edc-897a-4ffa-b250-7e2cf2d9fbc3 button.colab-df-quickchart');\n",
              "  quickchartButtonEl.style.display =\n",
              "    google.colab.kernel.accessAllowed ? 'block' : 'none';\n",
              "}\n",
              "\n",
              "        displayQuickchartButton(document);\n",
              "      </script>\n",
              "      <style>\n",
              "    .colab-df-container {\n",
              "      display:flex;\n",
              "      flex-wrap:wrap;\n",
              "      gap: 12px;\n",
              "    }\n",
              "\n",
              "    .colab-df-convert {\n",
              "      background-color: #E8F0FE;\n",
              "      border: none;\n",
              "      border-radius: 50%;\n",
              "      cursor: pointer;\n",
              "      display: none;\n",
              "      fill: #1967D2;\n",
              "      height: 32px;\n",
              "      padding: 0 0 0 0;\n",
              "      width: 32px;\n",
              "    }\n",
              "\n",
              "    .colab-df-convert:hover {\n",
              "      background-color: #E2EBFA;\n",
              "      box-shadow: 0px 1px 2px rgba(60, 64, 67, 0.3), 0px 1px 3px 1px rgba(60, 64, 67, 0.15);\n",
              "      fill: #174EA6;\n",
              "    }\n",
              "\n",
              "    [theme=dark] .colab-df-convert {\n",
              "      background-color: #3B4455;\n",
              "      fill: #D2E3FC;\n",
              "    }\n",
              "\n",
              "    [theme=dark] .colab-df-convert:hover {\n",
              "      background-color: #434B5C;\n",
              "      box-shadow: 0px 1px 3px 1px rgba(0, 0, 0, 0.15);\n",
              "      filter: drop-shadow(0px 1px 2px rgba(0, 0, 0, 0.3));\n",
              "      fill: #FFFFFF;\n",
              "    }\n",
              "  </style>\n",
              "\n",
              "      <script>\n",
              "        const buttonEl =\n",
              "          document.querySelector('#df-f2d7e0f1-1277-48ce-98cc-69439591b1d8 button.colab-df-convert');\n",
              "        buttonEl.style.display =\n",
              "          google.colab.kernel.accessAllowed ? 'block' : 'none';\n",
              "\n",
              "        async function convertToInteractive(key) {\n",
              "          const element = document.querySelector('#df-f2d7e0f1-1277-48ce-98cc-69439591b1d8');\n",
              "          const dataTable =\n",
              "            await google.colab.kernel.invokeFunction('convertToInteractive',\n",
              "                                                     [key], {});\n",
              "          if (!dataTable) return;\n",
              "\n",
              "          const docLinkHtml = 'Like what you see? Visit the ' +\n",
              "            '<a target=\"_blank\" href=https://colab.research.google.com/notebooks/data_table.ipynb>data table notebook</a>'\n",
              "            + ' to learn more about interactive tables.';\n",
              "          element.innerHTML = '';\n",
              "          dataTable['output_type'] = 'display_data';\n",
              "          await google.colab.output.renderOutput(dataTable, element);\n",
              "          const docLink = document.createElement('div');\n",
              "          docLink.innerHTML = docLinkHtml;\n",
              "          element.appendChild(docLink);\n",
              "        }\n",
              "      </script>\n",
              "    </div>\n",
              "  </div>\n"
            ]
          },
          "metadata": {},
          "execution_count": 8
        }
      ]
    },
    {
      "cell_type": "code",
      "source": [
        "successes = [df_acquisition.iloc[0, 2], df_acquisition.iloc[1, 2]]\n",
        "observations = [df_acquisition.iloc[0, 1], df_acquisition.iloc[1, 1]]\n",
        "\n",
        "stat, p_value = proportions.proportions_ztest(successes, observations)\n",
        "\n",
        "# Print the test statistic and p-value\n",
        "print(stat, p_value)"
      ],
      "metadata": {
        "colab": {
          "base_uri": "https://localhost:8080/"
        },
        "id": "7kZN3W6V1RyE",
        "outputId": "39484c64-5f8c-4433-817f-b33df3a79a71"
      },
      "execution_count": 11,
      "outputs": [
        {
          "output_type": "stream",
          "name": "stdout",
          "text": [
            "-14.403468069135618 4.921086476274254e-47\n"
          ]
        }
      ]
    },
    {
      "cell_type": "code",
      "source": [
        "# Create a contingency table\n",
        "contingency_table = df_acquisition[['Segment_A_Conversions', 'Segment_B_Conversions']].values\n",
        "\n",
        "# Perform chi-square test\n",
        "chi2, p_value, _, _ = stats.chi2_contingency(contingency_table)\n",
        "\n",
        "# Print the p-value\n",
        "print(\"Chi-square p-value:\", p_value)"
      ],
      "metadata": {
        "colab": {
          "base_uri": "https://localhost:8080/"
        },
        "id": "8yMRhlt-3mwg",
        "outputId": "93c955e0-8591-4285-d0ae-834e41795b85"
      },
      "execution_count": 12,
      "outputs": [
        {
          "output_type": "stream",
          "name": "stdout",
          "text": [
            "Chi-square p-value: 3.574477662507154e-19\n"
          ]
        }
      ]
    },
    {
      "cell_type": "markdown",
      "source": [
        "\n",
        "The results of the chi-square test suggest that there is a statistically significant difference between the two groups (control test and spend tracker) and the two segments (A and B). This means that the introduction of the spend tracker feature appears to have an impact on the respondent distribution within Segment A and Segment B.\n",
        "In other words, the spend tracker feature is more popular with members in Segment A than in Segment B. This is likely because members in Segment A have higher incomes, and they are more likely to be interested in tracking their spending.\n",
        "The p-value for this test is extremely small (3.27e-19), which means that it is very unlikely to get the observed results if there is no association between the variables. Therefore, we can be confident that there is a statistically significant association between the groups and the segments."
      ],
      "metadata": {
        "id": "Q0j1maUu5VPE"
      }
    },
    {
      "cell_type": "code",
      "source": [
        "# Data for plotting\n",
        "groups = df_acquisition['Group']\n",
        "segment_A = df_acquisition['Segment_A_Conversions']\n",
        "segment_B = df_acquisition['Segment_B_Conversions']\n",
        "\n",
        "# Set the figure size\n",
        "plt.figure(figsize=(10, 6))\n",
        "\n",
        "# Plot the bar chart\n",
        "bar_width = 0.35\n",
        "index = range(len(groups))\n",
        "\n",
        "plt.bar(index, segment_A, width=bar_width, label='Segment A')\n",
        "plt.bar([i + bar_width for i in index], segment_B, width=bar_width, label='Segment B')\n",
        "\n",
        "# Set the labels and title\n",
        "plt.xlabel('Group')\n",
        "plt.ylabel('Conversions')\n",
        "plt.title('Conversions by Group and Segment')\n",
        "\n",
        "# Set the x-axis ticks and labels\n",
        "plt.xticks([i + bar_width / 2 for i in index], groups)\n",
        "\n",
        "# Add a legend\n",
        "plt.legend()\n",
        "\n",
        "# Display the plot\n",
        "plt.show()"
      ],
      "metadata": {
        "colab": {
          "base_uri": "https://localhost:8080/",
          "height": 564
        },
        "id": "w3TFD-QY6Rrl",
        "outputId": "43484426-eabb-424b-ab33-ba9d0b1d19e5"
      },
      "execution_count": 13,
      "outputs": [
        {
          "output_type": "display_data",
          "data": {
            "text/plain": [
              "<Figure size 1000x600 with 1 Axes>"
            ],
            "image/png": "[encoded data removed]"
          },
          "metadata": {}
        }
      ]
    },
    {
      "cell_type": "markdown",
      "source": [
        "#PROFITABILITY"
      ],
      "metadata": {
        "id": "8YapkIVd6Idn"
      }
    },
    {
      "cell_type": "code",
      "source": [],
      "metadata": {
        "id": "SLst67bk6ot8"
      },
      "execution_count": null,
      "outputs": []
    }
  ]
}